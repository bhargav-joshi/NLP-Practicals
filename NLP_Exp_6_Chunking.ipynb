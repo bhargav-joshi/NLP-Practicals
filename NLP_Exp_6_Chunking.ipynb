{
  "cells": [
    {
      "cell_type": "markdown",
      "metadata": {
        "id": "view-in-github",
        "colab_type": "text"
      },
      "source": [
        "<a href=\"https://colab.research.google.com/github/bhargav-joshi/NLP-Practicals/blob/main/NLP_Exp_6_Chunking.ipynb\" target=\"_parent\"><img src=\"https://colab.research.google.com/assets/colab-badge.svg\" alt=\"Open In Colab\"/></a>"
      ]
    },
    {
      "cell_type": "code",
      "execution_count": null,
      "metadata": {
        "id": "xG5MyHdzTbtM"
      },
      "outputs": [],
      "source": [
        "#Import the necessary packages for the project"
      ]
    },
    {
      "cell_type": "code",
      "execution_count": null,
      "metadata": {
        "colab": {
          "base_uri": "https://localhost:8080/"
        },
        "id": "MoU5hBMqTbtP",
        "outputId": "506e0e73-1d0c-4b0a-8fac-400098623aa8"
      },
      "outputs": [
        {
          "output_type": "stream",
          "name": "stdout",
          "text": [
            "[nltk_data] Downloading package punkt to /root/nltk_data...\n",
            "[nltk_data]   Unzipping tokenizers/punkt.zip.\n"
          ]
        },
        {
          "output_type": "execute_result",
          "data": {
            "text/plain": [
              "True"
            ]
          },
          "metadata": {},
          "execution_count": 2
        }
      ],
      "source": [
        "import numpy as np\n",
        "import pandas as pd\n",
        "from nltk.tokenize import word_tokenize\n",
        "import nltk\n",
        "nltk.download('punkt')"
      ]
    },
    {
      "cell_type": "code",
      "execution_count": null,
      "metadata": {
        "id": "suUyRpDHTbtS"
      },
      "outputs": [],
      "source": [
        "#Read the data_in.csv file for the project"
      ]
    },
    {
      "cell_type": "code",
      "execution_count": null,
      "metadata": {
        "id": "UYz8ij8ITbtT"
      },
      "outputs": [],
      "source": [
        "df=pd.read_csv('https://raw.githubusercontent.com/bhargav-joshi/Raw-Datasets/main/Chunking/data_in.csv')"
      ]
    },
    {
      "cell_type": "code",
      "execution_count": null,
      "metadata": {
        "colab": {
          "base_uri": "https://localhost:8080/",
          "height": 206
        },
        "id": "-yFBn6g5TbtU",
        "outputId": "4e22b75d-4638-443e-f0c2-7f185348d04c"
      },
      "outputs": [
        {
          "output_type": "execute_result",
          "data": {
            "text/plain": [
              "                                             Comment\n",
              "0  \"Hello there, how are you? Weather is awesome....\n",
              "1  \"Hello Mr. Raja, how are you? Weather is aweso...\n",
              "2  \"Hello Mr. Raja, how are you. Weather is bad. ...\n",
              "3  \"NLP is great technique. It is nice to learn t...\n",
              "4  \"AI is making difference in this world now.  I..."
            ],
            "text/html": [
              "\n",
              "  <div id=\"df-9a4564f4-04a5-4304-9030-832daf89e785\">\n",
              "    <div class=\"colab-df-container\">\n",
              "      <div>\n",
              "<style scoped>\n",
              "    .dataframe tbody tr th:only-of-type {\n",
              "        vertical-align: middle;\n",
              "    }\n",
              "\n",
              "    .dataframe tbody tr th {\n",
              "        vertical-align: top;\n",
              "    }\n",
              "\n",
              "    .dataframe thead th {\n",
              "        text-align: right;\n",
              "    }\n",
              "</style>\n",
              "<table border=\"1\" class=\"dataframe\">\n",
              "  <thead>\n",
              "    <tr style=\"text-align: right;\">\n",
              "      <th></th>\n",
              "      <th>Comment</th>\n",
              "    </tr>\n",
              "  </thead>\n",
              "  <tbody>\n",
              "    <tr>\n",
              "      <th>0</th>\n",
              "      <td>\"Hello there, how are you? Weather is awesome....</td>\n",
              "    </tr>\n",
              "    <tr>\n",
              "      <th>1</th>\n",
              "      <td>\"Hello Mr. Raja, how are you? Weather is aweso...</td>\n",
              "    </tr>\n",
              "    <tr>\n",
              "      <th>2</th>\n",
              "      <td>\"Hello Mr. Raja, how are you. Weather is bad. ...</td>\n",
              "    </tr>\n",
              "    <tr>\n",
              "      <th>3</th>\n",
              "      <td>\"NLP is great technique. It is nice to learn t...</td>\n",
              "    </tr>\n",
              "    <tr>\n",
              "      <th>4</th>\n",
              "      <td>\"AI is making difference in this world now.  I...</td>\n",
              "    </tr>\n",
              "  </tbody>\n",
              "</table>\n",
              "</div>\n",
              "      <button class=\"colab-df-convert\" onclick=\"convertToInteractive('df-9a4564f4-04a5-4304-9030-832daf89e785')\"\n",
              "              title=\"Convert this dataframe to an interactive table.\"\n",
              "              style=\"display:none;\">\n",
              "        \n",
              "  <svg xmlns=\"http://www.w3.org/2000/svg\" height=\"24px\"viewBox=\"0 0 24 24\"\n",
              "       width=\"24px\">\n",
              "    <path d=\"M0 0h24v24H0V0z\" fill=\"none\"/>\n",
              "    <path d=\"M18.56 5.44l.94 2.06.94-2.06 2.06-.94-2.06-.94-.94-2.06-.94 2.06-2.06.94zm-11 1L8.5 8.5l.94-2.06 2.06-.94-2.06-.94L8.5 2.5l-.94 2.06-2.06.94zm10 10l.94 2.06.94-2.06 2.06-.94-2.06-.94-.94-2.06-.94 2.06-2.06.94z\"/><path d=\"M17.41 7.96l-1.37-1.37c-.4-.4-.92-.59-1.43-.59-.52 0-1.04.2-1.43.59L10.3 9.45l-7.72 7.72c-.78.78-.78 2.05 0 2.83L4 21.41c.39.39.9.59 1.41.59.51 0 1.02-.2 1.41-.59l7.78-7.78 2.81-2.81c.8-.78.8-2.07 0-2.86zM5.41 20L4 18.59l7.72-7.72 1.47 1.35L5.41 20z\"/>\n",
              "  </svg>\n",
              "      </button>\n",
              "      \n",
              "  <style>\n",
              "    .colab-df-container {\n",
              "      display:flex;\n",
              "      flex-wrap:wrap;\n",
              "      gap: 12px;\n",
              "    }\n",
              "\n",
              "    .colab-df-convert {\n",
              "      background-color: #E8F0FE;\n",
              "      border: none;\n",
              "      border-radius: 50%;\n",
              "      cursor: pointer;\n",
              "      display: none;\n",
              "      fill: #1967D2;\n",
              "      height: 32px;\n",
              "      padding: 0 0 0 0;\n",
              "      width: 32px;\n",
              "    }\n",
              "\n",
              "    .colab-df-convert:hover {\n",
              "      background-color: #E2EBFA;\n",
              "      box-shadow: 0px 1px 2px rgba(60, 64, 67, 0.3), 0px 1px 3px 1px rgba(60, 64, 67, 0.15);\n",
              "      fill: #174EA6;\n",
              "    }\n",
              "\n",
              "    [theme=dark] .colab-df-convert {\n",
              "      background-color: #3B4455;\n",
              "      fill: #D2E3FC;\n",
              "    }\n",
              "\n",
              "    [theme=dark] .colab-df-convert:hover {\n",
              "      background-color: #434B5C;\n",
              "      box-shadow: 0px 1px 3px 1px rgba(0, 0, 0, 0.15);\n",
              "      filter: drop-shadow(0px 1px 2px rgba(0, 0, 0, 0.3));\n",
              "      fill: #FFFFFF;\n",
              "    }\n",
              "  </style>\n",
              "\n",
              "      <script>\n",
              "        const buttonEl =\n",
              "          document.querySelector('#df-9a4564f4-04a5-4304-9030-832daf89e785 button.colab-df-convert');\n",
              "        buttonEl.style.display =\n",
              "          google.colab.kernel.accessAllowed ? 'block' : 'none';\n",
              "\n",
              "        async function convertToInteractive(key) {\n",
              "          const element = document.querySelector('#df-9a4564f4-04a5-4304-9030-832daf89e785');\n",
              "          const dataTable =\n",
              "            await google.colab.kernel.invokeFunction('convertToInteractive',\n",
              "                                                     [key], {});\n",
              "          if (!dataTable) return;\n",
              "\n",
              "          const docLinkHtml = 'Like what you see? Visit the ' +\n",
              "            '<a target=\"_blank\" href=https://colab.research.google.com/notebooks/data_table.ipynb>data table notebook</a>'\n",
              "            + ' to learn more about interactive tables.';\n",
              "          element.innerHTML = '';\n",
              "          dataTable['output_type'] = 'display_data';\n",
              "          await google.colab.output.renderOutput(dataTable, element);\n",
              "          const docLink = document.createElement('div');\n",
              "          docLink.innerHTML = docLinkHtml;\n",
              "          element.appendChild(docLink);\n",
              "        }\n",
              "      </script>\n",
              "    </div>\n",
              "  </div>\n",
              "  "
            ]
          },
          "metadata": {},
          "execution_count": 6
        }
      ],
      "source": [
        "df.head()"
      ]
    },
    {
      "cell_type": "code",
      "execution_count": null,
      "metadata": {
        "id": "xTHbsTgaTbtV"
      },
      "outputs": [],
      "source": [
        "df3=pd.DataFrame()"
      ]
    },
    {
      "cell_type": "code",
      "execution_count": null,
      "metadata": {
        "id": "Wdesxvv-TbtV"
      },
      "outputs": [],
      "source": [
        "#Tokenize the words in the sentences for the chunking"
      ]
    },
    {
      "cell_type": "code",
      "execution_count": null,
      "metadata": {
        "id": "CWLtPXRvTbtW"
      },
      "outputs": [],
      "source": [
        "df3['Token Comments'] = df.apply(lambda row: word_tokenize(row['Comment']), axis=1)"
      ]
    },
    {
      "cell_type": "code",
      "execution_count": null,
      "metadata": {
        "colab": {
          "base_uri": "https://localhost:8080/",
          "height": 206
        },
        "id": "K5LpfJsTTbtX",
        "outputId": "6fbfb303-65b7-44d4-b09c-7757ca23af20"
      },
      "outputs": [
        {
          "output_type": "execute_result",
          "data": {
            "text/plain": [
              "                                      Token Comments\n",
              "0  [``, Hello, there, ,, how, are, you, ?, Weathe...\n",
              "1  [``, Hello, Mr., Raja, ,, how, are, you, ?, We...\n",
              "2  [``, Hello, Mr., Raja, ,, how, are, you, ., We...\n",
              "3  [``, NLP, is, great, technique, ., It, is, nic...\n",
              "4  [``, AI, is, making, difference, in, this, wor..."
            ],
            "text/html": [
              "\n",
              "  <div id=\"df-8f690143-a879-41e0-b61d-f8ced4232b6d\">\n",
              "    <div class=\"colab-df-container\">\n",
              "      <div>\n",
              "<style scoped>\n",
              "    .dataframe tbody tr th:only-of-type {\n",
              "        vertical-align: middle;\n",
              "    }\n",
              "\n",
              "    .dataframe tbody tr th {\n",
              "        vertical-align: top;\n",
              "    }\n",
              "\n",
              "    .dataframe thead th {\n",
              "        text-align: right;\n",
              "    }\n",
              "</style>\n",
              "<table border=\"1\" class=\"dataframe\">\n",
              "  <thead>\n",
              "    <tr style=\"text-align: right;\">\n",
              "      <th></th>\n",
              "      <th>Token Comments</th>\n",
              "    </tr>\n",
              "  </thead>\n",
              "  <tbody>\n",
              "    <tr>\n",
              "      <th>0</th>\n",
              "      <td>[``, Hello, there, ,, how, are, you, ?, Weathe...</td>\n",
              "    </tr>\n",
              "    <tr>\n",
              "      <th>1</th>\n",
              "      <td>[``, Hello, Mr., Raja, ,, how, are, you, ?, We...</td>\n",
              "    </tr>\n",
              "    <tr>\n",
              "      <th>2</th>\n",
              "      <td>[``, Hello, Mr., Raja, ,, how, are, you, ., We...</td>\n",
              "    </tr>\n",
              "    <tr>\n",
              "      <th>3</th>\n",
              "      <td>[``, NLP, is, great, technique, ., It, is, nic...</td>\n",
              "    </tr>\n",
              "    <tr>\n",
              "      <th>4</th>\n",
              "      <td>[``, AI, is, making, difference, in, this, wor...</td>\n",
              "    </tr>\n",
              "  </tbody>\n",
              "</table>\n",
              "</div>\n",
              "      <button class=\"colab-df-convert\" onclick=\"convertToInteractive('df-8f690143-a879-41e0-b61d-f8ced4232b6d')\"\n",
              "              title=\"Convert this dataframe to an interactive table.\"\n",
              "              style=\"display:none;\">\n",
              "        \n",
              "  <svg xmlns=\"http://www.w3.org/2000/svg\" height=\"24px\"viewBox=\"0 0 24 24\"\n",
              "       width=\"24px\">\n",
              "    <path d=\"M0 0h24v24H0V0z\" fill=\"none\"/>\n",
              "    <path d=\"M18.56 5.44l.94 2.06.94-2.06 2.06-.94-2.06-.94-.94-2.06-.94 2.06-2.06.94zm-11 1L8.5 8.5l.94-2.06 2.06-.94-2.06-.94L8.5 2.5l-.94 2.06-2.06.94zm10 10l.94 2.06.94-2.06 2.06-.94-2.06-.94-.94-2.06-.94 2.06-2.06.94z\"/><path d=\"M17.41 7.96l-1.37-1.37c-.4-.4-.92-.59-1.43-.59-.52 0-1.04.2-1.43.59L10.3 9.45l-7.72 7.72c-.78.78-.78 2.05 0 2.83L4 21.41c.39.39.9.59 1.41.59.51 0 1.02-.2 1.41-.59l7.78-7.78 2.81-2.81c.8-.78.8-2.07 0-2.86zM5.41 20L4 18.59l7.72-7.72 1.47 1.35L5.41 20z\"/>\n",
              "  </svg>\n",
              "      </button>\n",
              "      \n",
              "  <style>\n",
              "    .colab-df-container {\n",
              "      display:flex;\n",
              "      flex-wrap:wrap;\n",
              "      gap: 12px;\n",
              "    }\n",
              "\n",
              "    .colab-df-convert {\n",
              "      background-color: #E8F0FE;\n",
              "      border: none;\n",
              "      border-radius: 50%;\n",
              "      cursor: pointer;\n",
              "      display: none;\n",
              "      fill: #1967D2;\n",
              "      height: 32px;\n",
              "      padding: 0 0 0 0;\n",
              "      width: 32px;\n",
              "    }\n",
              "\n",
              "    .colab-df-convert:hover {\n",
              "      background-color: #E2EBFA;\n",
              "      box-shadow: 0px 1px 2px rgba(60, 64, 67, 0.3), 0px 1px 3px 1px rgba(60, 64, 67, 0.15);\n",
              "      fill: #174EA6;\n",
              "    }\n",
              "\n",
              "    [theme=dark] .colab-df-convert {\n",
              "      background-color: #3B4455;\n",
              "      fill: #D2E3FC;\n",
              "    }\n",
              "\n",
              "    [theme=dark] .colab-df-convert:hover {\n",
              "      background-color: #434B5C;\n",
              "      box-shadow: 0px 1px 3px 1px rgba(0, 0, 0, 0.15);\n",
              "      filter: drop-shadow(0px 1px 2px rgba(0, 0, 0, 0.3));\n",
              "      fill: #FFFFFF;\n",
              "    }\n",
              "  </style>\n",
              "\n",
              "      <script>\n",
              "        const buttonEl =\n",
              "          document.querySelector('#df-8f690143-a879-41e0-b61d-f8ced4232b6d button.colab-df-convert');\n",
              "        buttonEl.style.display =\n",
              "          google.colab.kernel.accessAllowed ? 'block' : 'none';\n",
              "\n",
              "        async function convertToInteractive(key) {\n",
              "          const element = document.querySelector('#df-8f690143-a879-41e0-b61d-f8ced4232b6d');\n",
              "          const dataTable =\n",
              "            await google.colab.kernel.invokeFunction('convertToInteractive',\n",
              "                                                     [key], {});\n",
              "          if (!dataTable) return;\n",
              "\n",
              "          const docLinkHtml = 'Like what you see? Visit the ' +\n",
              "            '<a target=\"_blank\" href=https://colab.research.google.com/notebooks/data_table.ipynb>data table notebook</a>'\n",
              "            + ' to learn more about interactive tables.';\n",
              "          element.innerHTML = '';\n",
              "          dataTable['output_type'] = 'display_data';\n",
              "          await google.colab.output.renderOutput(dataTable, element);\n",
              "          const docLink = document.createElement('div');\n",
              "          docLink.innerHTML = docLinkHtml;\n",
              "          element.appendChild(docLink);\n",
              "        }\n",
              "      </script>\n",
              "    </div>\n",
              "  </div>\n",
              "  "
            ]
          },
          "metadata": {},
          "execution_count": 9
        }
      ],
      "source": [
        "df3.head()"
      ]
    },
    {
      "cell_type": "code",
      "execution_count": null,
      "metadata": {
        "id": "WXD6034KTbta"
      },
      "outputs": [],
      "source": [
        "df3.to_csv('data_out',index=False)"
      ]
    },
    {
      "cell_type": "code",
      "execution_count": null,
      "metadata": {
        "colab": {
          "base_uri": "https://localhost:8080/"
        },
        "id": "G5oQRXK3Tbta",
        "outputId": "d1255d96-64b5-432a-fead-838f7802ec9c"
      },
      "outputs": [
        {
          "output_type": "stream",
          "name": "stdout",
          "text": [
            "[nltk_data] Downloading package averaged_perceptron_tagger to\n",
            "[nltk_data]     /root/nltk_data...\n",
            "[nltk_data]   Package averaged_perceptron_tagger is already up-to-\n",
            "[nltk_data]       date!\n"
          ]
        },
        {
          "output_type": "execute_result",
          "data": {
            "text/plain": [
              "True"
            ]
          },
          "metadata": {},
          "execution_count": 23
        }
      ],
      "source": [
        "from nltk.chunk import ne_chunk\n",
        "from nltk.tokenize import word_tokenize\n",
        "from nltk.tag import pos_tag\n",
        "nltk.download('averaged_perceptron_tagger')"
      ]
    },
    {
      "cell_type": "code",
      "execution_count": null,
      "metadata": {
        "colab": {
          "base_uri": "https://localhost:8080/"
        },
        "id": "KIT908e4Tbtb",
        "outputId": "d8ba9843-6eec-4e3a-ba67-4776b9b3eee5"
      },
      "outputs": [
        {
          "output_type": "stream",
          "name": "stdout",
          "text": [
            "[nltk_data] Downloading package maxent_ne_chunker to\n",
            "[nltk_data]     /root/nltk_data...\n",
            "[nltk_data]   Unzipping chunkers/maxent_ne_chunker.zip.\n",
            "[nltk_data] Downloading package words to /root/nltk_data...\n",
            "[nltk_data]   Unzipping corpora/words.zip.\n"
          ]
        },
        {
          "output_type": "execute_result",
          "data": {
            "text/plain": [
              "True"
            ]
          },
          "metadata": {},
          "execution_count": 13
        }
      ],
      "source": [
        "nltk.download('maxent_ne_chunker')\n",
        "nltk.download('words')"
      ]
    },
    {
      "cell_type": "code",
      "execution_count": null,
      "metadata": {
        "colab": {
          "base_uri": "https://localhost:8080/"
        },
        "id": "ZkGw7MK-Tbtb",
        "outputId": "3316c219-81dc-4f09-e866-b94754fcd597"
      },
      "outputs": [
        {
          "output_type": "execute_result",
          "data": {
            "text/plain": [
              "0    [``, Hello, there, ,, how, are, you, ?, Weathe...\n",
              "1    [``, Hello, Mr., Raja, ,, how, are, you, ?, We...\n",
              "2    [``, Hello, Mr., Raja, ,, how, are, you, ., We...\n",
              "3    [``, NLP, is, great, technique, ., It, is, nic...\n",
              "4    [``, AI, is, making, difference, in, this, wor...\n",
              "Name: Token Comments, dtype: object"
            ]
          },
          "metadata": {},
          "execution_count": 14
        }
      ],
      "source": [
        "df3['Token Comments']"
      ]
    },
    {
      "cell_type": "code",
      "execution_count": null,
      "metadata": {
        "id": "4BJmJp9_Tbtc"
      },
      "outputs": [],
      "source": [
        "#Make a list of the words in the sentences"
      ]
    },
    {
      "cell_type": "code",
      "execution_count": null,
      "metadata": {
        "id": "9vpu15imTbtd"
      },
      "outputs": [],
      "source": [
        "Complete_sentence=[]\n",
        "for each in df3['Token Comments']:\n",
        "    Complete_sentence=Complete_sentence+each"
      ]
    },
    {
      "cell_type": "code",
      "execution_count": null,
      "metadata": {
        "colab": {
          "base_uri": "https://localhost:8080/"
        },
        "id": "06vwNhNkTbte",
        "outputId": "887c687d-468d-411c-b6ea-ad0b8586ccc9"
      },
      "outputs": [
        {
          "output_type": "execute_result",
          "data": {
            "text/plain": [
              "['``',\n",
              " 'Hello',\n",
              " 'there',\n",
              " ',',\n",
              " 'how',\n",
              " 'are',\n",
              " 'you',\n",
              " '?',\n",
              " 'Weather',\n",
              " 'is',\n",
              " 'awesome',\n",
              " '.',\n",
              " 'Its',\n",
              " 'raining',\n",
              " 'here',\n",
              " 'now',\n",
              " '.',\n",
              " \"''\",\n",
              " '``',\n",
              " 'Hello',\n",
              " 'Mr.',\n",
              " 'Raja',\n",
              " ',',\n",
              " 'how',\n",
              " 'are',\n",
              " 'you',\n",
              " '?',\n",
              " 'Weather',\n",
              " 'is',\n",
              " 'awesome',\n",
              " '.',\n",
              " 'Its',\n",
              " 'raining',\n",
              " 'here',\n",
              " 'now',\n",
              " '.',\n",
              " \"''\",\n",
              " '``',\n",
              " 'Hello',\n",
              " 'Mr.',\n",
              " 'Raja',\n",
              " ',',\n",
              " 'how',\n",
              " 'are',\n",
              " 'you',\n",
              " '.',\n",
              " 'Weather',\n",
              " 'is',\n",
              " 'bad',\n",
              " '.',\n",
              " 'Its',\n",
              " 'heavily',\n",
              " 'raining',\n",
              " 'here',\n",
              " 'now',\n",
              " '.',\n",
              " \"''\",\n",
              " '``',\n",
              " 'NLP',\n",
              " 'is',\n",
              " 'great',\n",
              " 'technique',\n",
              " '.',\n",
              " 'It',\n",
              " 'is',\n",
              " 'nice',\n",
              " 'to',\n",
              " 'learn',\n",
              " 'this',\n",
              " 'technique',\n",
              " '.',\n",
              " \"''\",\n",
              " '``',\n",
              " 'AI',\n",
              " 'is',\n",
              " 'making',\n",
              " 'difference',\n",
              " 'in',\n",
              " 'this',\n",
              " 'world',\n",
              " 'now',\n",
              " '.',\n",
              " 'It',\n",
              " 'would',\n",
              " 'be',\n",
              " 'helpful',\n",
              " 'for',\n",
              " 'betterment',\n",
              " 'of',\n",
              " 'human',\n",
              " 'life',\n",
              " '.',\n",
              " 'We',\n",
              " 'need',\n",
              " 'to',\n",
              " 'make',\n",
              " 'advantage',\n",
              " 'of',\n",
              " 'that',\n",
              " '.',\n",
              " \"''\"]"
            ]
          },
          "metadata": {},
          "execution_count": 16
        }
      ],
      "source": [
        "Complete_sentence"
      ]
    },
    {
      "cell_type": "code",
      "execution_count": null,
      "metadata": {
        "id": "07RCsy9OTbtf"
      },
      "outputs": [],
      "source": [
        "import re"
      ]
    },
    {
      "cell_type": "code",
      "execution_count": null,
      "metadata": {
        "id": "ky7_ILk7Tbtf"
      },
      "outputs": [],
      "source": [
        "#remove the unwanted charaters from the list and create a new one"
      ]
    },
    {
      "cell_type": "code",
      "execution_count": null,
      "metadata": {
        "id": "US8nx2DQTbtg"
      },
      "outputs": [],
      "source": [
        "filtered_words=str([re.sub(r\"[^a-zA-Z0-9]+\",'', item) for item in Complete_sentence])[1:-1]"
      ]
    },
    {
      "cell_type": "code",
      "execution_count": null,
      "metadata": {
        "colab": {
          "base_uri": "https://localhost:8080/",
          "height": 88
        },
        "id": "U3c7NNmMTbtg",
        "outputId": "8876500c-b0ff-41e0-cce5-23abc6f8f394"
      },
      "outputs": [
        {
          "output_type": "execute_result",
          "data": {
            "text/plain": [
              "\"'', 'Hello', 'there', '', 'how', 'are', 'you', '', 'Weather', 'is', 'awesome', '', 'Its', 'raining', 'here', 'now', '', '', '', 'Hello', 'Mr', 'Raja', '', 'how', 'are', 'you', '', 'Weather', 'is', 'awesome', '', 'Its', 'raining', 'here', 'now', '', '', '', 'Hello', 'Mr', 'Raja', '', 'how', 'are', 'you', '', 'Weather', 'is', 'bad', '', 'Its', 'heavily', 'raining', 'here', 'now', '', '', '', 'NLP', 'is', 'great', 'technique', '', 'It', 'is', 'nice', 'to', 'learn', 'this', 'technique', '', '', '', 'AI', 'is', 'making', 'difference', 'in', 'this', 'world', 'now', '', 'It', 'would', 'be', 'helpful', 'for', 'betterment', 'of', 'human', 'life', '', 'We', 'need', 'to', 'make', 'advantage', 'of', 'that', '', ''\""
            ],
            "application/vnd.google.colaboratory.intrinsic+json": {
              "type": "string"
            }
          },
          "metadata": {},
          "execution_count": 19
        }
      ],
      "source": [
        "filtered_words"
      ]
    },
    {
      "cell_type": "code",
      "execution_count": null,
      "metadata": {
        "id": "wUNzTE9jTbtg"
      },
      "outputs": [],
      "source": [
        "#Assign pos_tag for the words filtered from the sentences"
      ]
    },
    {
      "cell_type": "code",
      "execution_count": null,
      "metadata": {
        "id": "UTwokA2TTbth"
      },
      "outputs": [],
      "source": [
        "chunk_words = ne_chunk(pos_tag(word_tokenize(filtered_words)))"
      ]
    },
    {
      "cell_type": "code",
      "execution_count": null,
      "metadata": {
        "colab": {
          "base_uri": "https://localhost:8080/"
        },
        "id": "Vef919Q9Tbth",
        "outputId": "f8c20f62-06ff-44f4-cc1e-782c56beede0"
      },
      "outputs": [
        {
          "output_type": "stream",
          "name": "stdout",
          "text": [
            "(S\n",
            "  ''/''\n",
            "  ,/,\n",
            "  'Hello/NNP\n",
            "  '/POS\n",
            "  ,/,\n",
            "  'there/EX\n",
            "  '/''\n",
            "  ,/,\n",
            "  ''/''\n",
            "  ,/,\n",
            "  'how/NNP\n",
            "  '/POS\n",
            "  ,/,\n",
            "  'are/NNP\n",
            "  '/POS\n",
            "  ,/,\n",
            "  'you/NNP\n",
            "  '/POS\n",
            "  ,/,\n",
            "  ''/''\n",
            "  ,/,\n",
            "  'Weather/''\n",
            "  '/''\n",
            "  ,/,\n",
            "  'is/NNP\n",
            "  '/POS\n",
            "  ,/,\n",
            "  'awesome/NNP\n",
            "  '/POS\n",
            "  ,/,\n",
            "  ''/''\n",
            "  ,/,\n",
            "  'Its/NNP\n",
            "  '/POS\n",
            "  ,/,\n",
            "  'raining/VBG\n",
            "  '/''\n",
            "  ,/,\n",
            "  'here/EX\n",
            "  '/''\n",
            "  ,/,\n",
            "  'now/NNP\n",
            "  '/POS\n",
            "  ,/,\n",
            "  ''/''\n",
            "  ,/,\n",
            "  ''/''\n",
            "  ,/,\n",
            "  ''/''\n",
            "  ,/,\n",
            "  'Hello/NNP\n",
            "  '/POS\n",
            "  ,/,\n",
            "  'Mr/NNP\n",
            "  '/POS\n",
            "  ,/,\n",
            "  'Raja/''\n",
            "  '/''\n",
            "  ,/,\n",
            "  ''/''\n",
            "  ,/,\n",
            "  'how/NNP\n",
            "  '/POS\n",
            "  ,/,\n",
            "  'are/NNP\n",
            "  '/POS\n",
            "  ,/,\n",
            "  'you/NNP\n",
            "  '/POS\n",
            "  ,/,\n",
            "  ''/''\n",
            "  ,/,\n",
            "  'Weather/''\n",
            "  '/''\n",
            "  ,/,\n",
            "  'is/NNP\n",
            "  '/POS\n",
            "  ,/,\n",
            "  'awesome/NNP\n",
            "  '/POS\n",
            "  ,/,\n",
            "  ''/''\n",
            "  ,/,\n",
            "  'Its/NNP\n",
            "  '/POS\n",
            "  ,/,\n",
            "  'raining/VBG\n",
            "  '/''\n",
            "  ,/,\n",
            "  'here/EX\n",
            "  '/''\n",
            "  ,/,\n",
            "  'now/NNP\n",
            "  '/POS\n",
            "  ,/,\n",
            "  ''/''\n",
            "  ,/,\n",
            "  ''/''\n",
            "  ,/,\n",
            "  ''/''\n",
            "  ,/,\n",
            "  'Hello/NNP\n",
            "  '/POS\n",
            "  ,/,\n",
            "  'Mr/NNP\n",
            "  '/POS\n",
            "  ,/,\n",
            "  'Raja/''\n",
            "  '/''\n",
            "  ,/,\n",
            "  ''/''\n",
            "  ,/,\n",
            "  'how/NNP\n",
            "  '/POS\n",
            "  ,/,\n",
            "  'are/NNP\n",
            "  '/POS\n",
            "  ,/,\n",
            "  'you/NNP\n",
            "  '/POS\n",
            "  ,/,\n",
            "  ''/''\n",
            "  ,/,\n",
            "  'Weather/''\n",
            "  '/''\n",
            "  ,/,\n",
            "  'is/NNP\n",
            "  '/POS\n",
            "  ,/,\n",
            "  'bad/NNP\n",
            "  '/POS\n",
            "  ,/,\n",
            "  ''/''\n",
            "  ,/,\n",
            "  'Its/NNP\n",
            "  '/POS\n",
            "  ,/,\n",
            "  'heavily/RB\n",
            "  '/POS\n",
            "  ,/,\n",
            "  'raining/VBG\n",
            "  '/''\n",
            "  ,/,\n",
            "  'here/EX\n",
            "  '/''\n",
            "  ,/,\n",
            "  'now/NNP\n",
            "  '/POS\n",
            "  ,/,\n",
            "  ''/''\n",
            "  ,/,\n",
            "  ''/''\n",
            "  ,/,\n",
            "  ''/''\n",
            "  ,/,\n",
            "  'NLP/NNP\n",
            "  '/POS\n",
            "  ,/,\n",
            "  'is/NNP\n",
            "  '/POS\n",
            "  ,/,\n",
            "  'great/NNP\n",
            "  '/POS\n",
            "  ,/,\n",
            "  'technique/NNP\n",
            "  '/POS\n",
            "  ,/,\n",
            "  ''/''\n",
            "  ,/,\n",
            "  'It/NNP\n",
            "  '/POS\n",
            "  ,/,\n",
            "  'is/NNP\n",
            "  '/POS\n",
            "  ,/,\n",
            "  'nice/NNP\n",
            "  '/POS\n",
            "  ,/,\n",
            "  'to/NNP\n",
            "  '/POS\n",
            "  ,/,\n",
            "  'learn/NNP\n",
            "  '/POS\n",
            "  ,/,\n",
            "  'this/NNP\n",
            "  '/POS\n",
            "  ,/,\n",
            "  'technique/NNP\n",
            "  '/POS\n",
            "  ,/,\n",
            "  ''/''\n",
            "  ,/,\n",
            "  ''/''\n",
            "  ,/,\n",
            "  ''/''\n",
            "  ,/,\n",
            "  'AI/NNP\n",
            "  '/POS\n",
            "  ,/,\n",
            "  'is/NNP\n",
            "  '/POS\n",
            "  ,/,\n",
            "  'making/VBG\n",
            "  '/''\n",
            "  ,/,\n",
            "  'difference/NNP\n",
            "  '/POS\n",
            "  ,/,\n",
            "  'in/NNP\n",
            "  '/POS\n",
            "  ,/,\n",
            "  'this/NNP\n",
            "  '/POS\n",
            "  ,/,\n",
            "  'world/NNP\n",
            "  '/POS\n",
            "  ,/,\n",
            "  'now/NNP\n",
            "  '/POS\n",
            "  ,/,\n",
            "  ''/''\n",
            "  ,/,\n",
            "  'It/NNP\n",
            "  '/POS\n",
            "  ,/,\n",
            "  'would/MD\n",
            "  '/''\n",
            "  ,/,\n",
            "  'be/NNP\n",
            "  '/POS\n",
            "  ,/,\n",
            "  'helpful/''\n",
            "  '/''\n",
            "  ,/,\n",
            "  'for/NNP\n",
            "  '/POS\n",
            "  ,/,\n",
            "  'betterment/NNP\n",
            "  '/POS\n",
            "  ,/,\n",
            "  'of/NNP\n",
            "  '/POS\n",
            "  ,/,\n",
            "  'human/NNP\n",
            "  '/POS\n",
            "  ,/,\n",
            "  'life/''\n",
            "  '/''\n",
            "  ,/,\n",
            "  ''/''\n",
            "  ,/,\n",
            "  'We/NNP\n",
            "  '/POS\n",
            "  ,/,\n",
            "  'need/''\n",
            "  '/''\n",
            "  ,/,\n",
            "  'to/NNP\n",
            "  '/POS\n",
            "  ,/,\n",
            "  'make/NNP\n",
            "  '/POS\n",
            "  ,/,\n",
            "  'advantage/NN\n",
            "  '/''\n",
            "  ,/,\n",
            "  'of/NNP\n",
            "  '/POS\n",
            "  ,/,\n",
            "  'that/WP\n",
            "  '/''\n",
            "  ,/,\n",
            "  ''/''\n",
            "  ,/,\n",
            "  ''/'')\n"
          ]
        }
      ],
      "source": [
        "print(chunk_words)"
      ]
    },
    {
      "cell_type": "code",
      "execution_count": null,
      "metadata": {
        "id": "bI37sdD0Tbti"
      },
      "outputs": [],
      "source": [
        "#Draw the tree diagram for the pos_tags "
      ]
    },
    {
      "cell_type": "code",
      "source": [
        "# Run this on Jupyternotebook for tree\n",
        "chunk_words.draw()"
      ],
      "metadata": {
        "id": "9z24-9W7VuQo"
      },
      "execution_count": 1,
      "outputs": []
    },
    {
      "cell_type": "code",
      "source": [
        ""
      ],
      "metadata": {
        "id": "XBMy0x0jYJQS"
      },
      "execution_count": null,
      "outputs": []
    }
  ],
  "metadata": {
    "kernelspec": {
      "display_name": "Python 3",
      "language": "python",
      "name": "python3"
    },
    "language_info": {
      "codemirror_mode": {
        "name": "ipython",
        "version": 3
      },
      "file_extension": ".py",
      "mimetype": "text/x-python",
      "name": "python",
      "nbconvert_exporter": "python",
      "pygments_lexer": "ipython3",
      "version": "3.7.3"
    },
    "colab": {
      "name": "NLP Exp 6 - Chunking.ipynb",
      "provenance": [],
      "collapsed_sections": [],
      "include_colab_link": true
    }
  },
  "nbformat": 4,
  "nbformat_minor": 0
}