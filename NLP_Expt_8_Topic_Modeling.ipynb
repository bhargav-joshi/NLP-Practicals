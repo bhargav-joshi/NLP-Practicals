{
  "nbformat": 4,
  "nbformat_minor": 0,
  "metadata": {
    "colab": {
      "name": "NLP Expt 8_Topic Modeling.ipynb",
      "provenance": [],
      "collapsed_sections": [],
      "authorship_tag": "ABX9TyNMXzgI6Mpr5SHAWxubCpEp",
      "include_colab_link": true
    },
    "kernelspec": {
      "name": "python3",
      "display_name": "Python 3"
    },
    "language_info": {
      "name": "python"
    }
  },
  "cells": [
    {
      "cell_type": "markdown",
      "metadata": {
        "id": "view-in-github",
        "colab_type": "text"
      },
      "source": [
        "<a href=\"https://colab.research.google.com/github/bhargav-joshi/NLP-Practicals/blob/main/NLP_Expt_8_Topic_Modeling.ipynb\" target=\"_parent\"><img src=\"https://colab.research.google.com/assets/colab-badge.svg\" alt=\"Open In Colab\"/></a>"
      ]
    },
    {
      "cell_type": "markdown",
      "source": [
        "# **NLP Expt 8_Topic Modeling**\n"
      ],
      "metadata": {
        "id": "-C_pG9ltEyJv"
      }
    },
    {
      "cell_type": "code",
      "execution_count": 5,
      "metadata": {
        "colab": {
          "base_uri": "https://localhost:8080/"
        },
        "id": "tQZD7_5vDcXY",
        "outputId": "b9c9f635-dc7f-48fa-d19d-9523d5dde60f"
      },
      "outputs": [
        {
          "output_type": "stream",
          "name": "stderr",
          "text": [
            "/usr/local/lib/python3.7/dist-packages/sklearn/utils/deprecation.py:87: FutureWarning: Function get_feature_names is deprecated; get_feature_names is deprecated in 1.0 and will be removed in 1.2. Please use get_feature_names_out instead.\n",
            "  warnings.warn(msg, category=FutureWarning)\n",
            "/usr/local/lib/python3.7/dist-packages/sklearn/utils/deprecation.py:87: FutureWarning: Function get_feature_names is deprecated; get_feature_names is deprecated in 1.0 and will be removed in 1.2. Please use get_feature_names_out instead.\n",
            "  warnings.warn(msg, category=FutureWarning)\n"
          ]
        },
        {
          "output_type": "execute_result",
          "data": {
            "text/plain": [
              "[['open', 'rafael', 'nadal'], ['virus', 'biden', 'announces']]"
            ]
          },
          "metadata": {},
          "execution_count": 5
        }
      ],
      "source": [
        "corpus = [ \"Rafael Nadal Joins Roger Federer in Missing U.S. Open\",\n",
        "          \"Rafael Nadal Is Out of the Australian Open\",\n",
        "          \"Biden Announces Virus Measures\",\n",
        "          \"Biden's Virus Plans Meet Reality\",\n",
        "          \"Where Biden's Virus Plan Stands\"]\n",
        "\n",
        "import nltk\n",
        "from sklearn.feature_extraction.text import CountVectorizer\n",
        "from sklearn.feature_extraction.text import TfidfTransformer\n",
        "from sklearn.decomposition import LatentDirichletAllocation as LDA\n",
        "from nltk.corpus import stopwords\n",
        "\n",
        "count_vect = CountVectorizer(stop_words=stopwords.words('english'),lowercase=True)\n",
        "x_counts = count_vect.fit_transform(corpus)\n",
        "x_counts.todense()\n",
        "count_vect.get_feature_names()\n",
        "tfidf_transformer = TfidfTransformer()\n",
        "x_tfidf = tfidf_transformer.fit_transform(x_counts)\n",
        "dimension = 2\n",
        "lda = LDA(n_components = dimension)\n",
        "lda_array = lda.fit_transform(x_tfidf)\n",
        "lda_array\n",
        "components = [lda.components_[i] for i in range(len(lda.components_))]\n",
        "features = count_vect.get_feature_names()\n",
        "important_words = [sorted(features, key = lambda x: components[j][features.index(x)], reverse = True)[:3] for j in range(len(components))]\n",
        "important_words"
      ]
    },
    {
      "cell_type": "code",
      "source": [
        ""
      ],
      "metadata": {
        "id": "1ONitIdWEO41"
      },
      "execution_count": null,
      "outputs": []
    }
  ]
}