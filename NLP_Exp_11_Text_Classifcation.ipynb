{
  "nbformat": 4,
  "nbformat_minor": 0,
  "metadata": {
    "colab": {
      "name": "NLP Exp 11 - Text Classifcation.ipynb",
      "provenance": [],
      "collapsed_sections": [],
      "authorship_tag": "ABX9TyMlt9DZIYEizI0evT3HodHl",
      "include_colab_link": true
    },
    "kernelspec": {
      "name": "python3",
      "display_name": "Python 3"
    },
    "language_info": {
      "name": "python"
    }
  },
  "cells": [
    {
      "cell_type": "markdown",
      "metadata": {
        "id": "view-in-github",
        "colab_type": "text"
      },
      "source": [
        "<a href=\"https://colab.research.google.com/github/bhargav-joshi/NLP-Practicals/blob/main/NLP_Exp_11_Text_Classifcation.ipynb\" target=\"_parent\"><img src=\"https://colab.research.google.com/assets/colab-badge.svg\" alt=\"Open In Colab\"/></a>"
      ]
    },
    {
      "cell_type": "code",
      "execution_count": 5,
      "metadata": {
        "colab": {
          "base_uri": "https://localhost:8080/"
        },
        "id": "EiOzJo1Ifj-e",
        "outputId": "540c850b-f27c-43e3-903c-207e00359e12"
      },
      "outputs": [
        {
          "output_type": "stream",
          "name": "stdout",
          "text": [
            "                                                review  polarity\n",
            "0    privacy at least put some option appear offlin...         0\n",
            "1    messenger issues ever since the last update, i...         0\n",
            "2    profile any time my wife or anybody has more t...         0\n",
            "3    the new features suck for those of us who don'...         0\n",
            "4    forced reload on uploading pic on replying com...         0\n",
            "..                                                 ...       ...\n",
            "886  loved it i loooooooooooooovvved it because it ...         1\n",
            "887  all time legendary game the birthday party lev...         1\n",
            "888  ads are way to heavy listen to the bad reviews...         0\n",
            "889  fun works perfectly well. ads aren't as annoyi...         1\n",
            "890  they're everywhere i see angry birds everywher...         1\n",
            "\n",
            "[891 rows x 2 columns]\n",
            "0.8565022421524664\n",
            "Enter a comment to check its type: It is really good\n",
            "Positive Comment\n"
          ]
        }
      ],
      "source": [
        "import pandas as pd\n",
        "from sklearn.model_selection import train_test_split\n",
        "import joblib\n",
        "from sklearn.feature_extraction.text import CountVectorizer\n",
        "from sklearn.naive_bayes import MultinomialNB\n",
        "\n",
        "def preprocess_data(data):\n",
        "    data = data.drop('package_name', axis=1)\n",
        "    data['review'] = data['review'].str.strip().str.lower()\n",
        "    return data\n",
        "\n",
        "data = pd.read_csv('https://raw.githubusercontent.com/Hrd2D/Sentiment-analysis-on-Google-Play-store-apps-reviews/master/google_play_store_apps_reviews_training.csv')\n",
        "data = preprocess_data(data)\n",
        "print(data)\n",
        "x = data['review']\n",
        "y = data['polarity']\n",
        "x, x_test, y, y_test = train_test_split(x,y, stratify=y, test_size=0.25, random_state=42)\n",
        "vec = CountVectorizer(stop_words='english')\n",
        "x = vec.fit_transform(x).toarray()\n",
        "x_test = vec.transform(x_test).toarray()\n",
        "model = MultinomialNB()\n",
        "model.fit(x, y)\n",
        "print(model.score(x_test, y_test))\n",
        "comment = input(\"Enter a comment to check its type: \")\n",
        "print(\"Positive Comment\") if model.predict(vec.transform([comment]))==1 else print(\"Negative comment\")\n"
      ]
    },
    {
      "cell_type": "code",
      "source": [
        ""
      ],
      "metadata": {
        "id": "6KKp5d0KfpkX"
      },
      "execution_count": null,
      "outputs": []
    }
  ]
}