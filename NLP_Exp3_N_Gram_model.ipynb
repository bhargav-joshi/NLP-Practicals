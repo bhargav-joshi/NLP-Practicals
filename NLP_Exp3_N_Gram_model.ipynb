{
  "nbformat": 4,
  "nbformat_minor": 0,
  "metadata": {
    "colab": {
      "name": "NLP Exp3  N-Gram model.ipynb",
      "provenance": [],
      "collapsed_sections": [],
      "authorship_tag": "ABX9TyMu3Ql+S0p/useUv/i/7e+A",
      "include_colab_link": true
    },
    "kernelspec": {
      "name": "python3",
      "display_name": "Python 3"
    },
    "language_info": {
      "name": "python"
    }
  },
  "cells": [
    {
      "cell_type": "markdown",
      "metadata": {
        "id": "view-in-github",
        "colab_type": "text"
      },
      "source": [
        "<a href=\"https://colab.research.google.com/github/bhargav-joshi/NLP-Practicals/blob/main/NLP_Exp3_N_Gram_model.ipynb\" target=\"_parent\"><img src=\"https://colab.research.google.com/assets/colab-badge.svg\" alt=\"Open In Colab\"/></a>"
      ]
    },
    {
      "cell_type": "code",
      "execution_count": null,
      "metadata": {
        "colab": {
          "base_uri": "https://localhost:8080/"
        },
        "id": "gMLpweME9I65",
        "outputId": "d84e755c-0cb1-4f31-82a5-1023ad33a856"
      },
      "outputs": [
        {
          "output_type": "stream",
          "name": "stdout",
          "text": [
            "Cricket is a bat and ball game. It is played between two teams of 11 players. It is played on a large round field.\n",
            "eos Cricket is a bat and ball game eos  It is played between two teams of 11 players eos  It is played on a large round field eos\n",
            "['eos', 'Cricket', 'is', 'a', 'bat', 'and', 'ball', 'game', 'eos', '', 'It', 'is', 'played', 'between', 'two', 'teams', 'of', '11', 'players', 'eos', '', 'It', 'is', 'played', 'on', 'a', 'large', 'round', 'field', 'eos']\n",
            "[('eos', 'Cricket'), ('Cricket', 'is'), ('is', 'a'), ('a', 'bat'), ('bat', 'and'), ('and', 'ball'), ('ball', 'game'), ('game', 'eos'), ('eos', ''), ('', 'It'), ('It', 'is'), ('is', 'played'), ('played', 'between'), ('between', 'two'), ('two', 'teams'), ('teams', 'of'), ('of', '11'), ('11', 'players'), ('players', 'eos'), ('eos', ''), ('', 'It'), ('It', 'is'), ('is', 'played'), ('played', 'on'), ('on', 'a'), ('a', 'large'), ('large', 'round'), ('round', 'field'), ('field', 'eos')]\n",
            "29\n",
            "{'eos': 4, 'Cricket': 1, 'is': 3, 'a': 2, 'bat': 1, 'and': 1, 'ball': 1, 'game': 1, '': 2, 'It': 2, 'played': 2, 'between': 1, 'two': 1, 'teams': 1, 'of': 1, '11': 1, 'players': 1, 'on': 1, 'large': 1, 'round': 1, 'field': 1}\n",
            "{('eos', 'Cricket'): 1, ('Cricket', 'is'): 1, ('is', 'a'): 1, ('a', 'bat'): 1, ('bat', 'and'): 1, ('and', 'ball'): 1, ('ball', 'game'): 1, ('game', 'eos'): 1, ('eos', ''): 2, ('', 'It'): 2, ('It', 'is'): 2, ('is', 'played'): 2, ('played', 'between'): 1, ('between', 'two'): 1, ('two', 'teams'): 1, ('teams', 'of'): 1, ('of', '11'): 1, ('11', 'players'): 1, ('players', 'eos'): 1, ('played', 'on'): 1, ('on', 'a'): 1, ('a', 'large'): 1, ('large', 'round'): 1, ('round', 'field'): 1, ('field', 'eos'): 1}\n",
            "{('eos', 'Cricket'): 0.25, ('Cricket', 'is'): 1.0, ('is', 'a'): 0.3333333333333333, ('a', 'bat'): 0.5, ('bat', 'and'): 1.0, ('and', 'ball'): 1.0, ('ball', 'game'): 1.0, ('game', 'eos'): 1.0, ('eos', ''): 0.5, ('', 'It'): 1.0, ('It', 'is'): 1.0, ('is', 'played'): 0.6666666666666666, ('played', 'between'): 0.5, ('between', 'two'): 1.0, ('two', 'teams'): 1.0, ('teams', 'of'): 1.0, ('of', '11'): 1.0, ('11', 'players'): 1.0, ('players', 'eos'): 1.0, ('played', 'on'): 0.5, ('on', 'a'): 1.0, ('a', 'large'): 0.5, ('large', 'round'): 1.0, ('round', 'field'): 1.0, ('field', 'eos'): 1.0}\n",
            "['', 'large', 'game', 'and', 'played', 'of', 'players', 'bat', 'round', 'field', 'two', 'eos', 'on', 'is', 'ball', '11', 'Cricket', 'between', 'teams', 'a', 'It']\n",
            "[[0.0, 0.0, 0.0, 0.0, 0.0, 0.0, 0.0, 0.0, 0.0, 0.0, 0.0, 0.0, 0.0, 0.0, 0.0, 0.0, 0.0, 0.0, 0.0, 0.0, 1.0], [0.0, 0.0, 0.0, 0.0, 0.0, 0.0, 0.0, 0.0, 1.0, 0.0, 0.0, 0.0, 0.0, 0.0, 0.0, 0.0, 0.0, 0.0, 0.0, 0.0, 0.0], [0.0, 0.0, 0.0, 0.0, 0.0, 0.0, 0.0, 0.0, 0.0, 0.0, 0.0, 1.0, 0.0, 0.0, 0.0, 0.0, 0.0, 0.0, 0.0, 0.0, 0.0], [0.0, 0.0, 0.0, 0.0, 0.0, 0.0, 0.0, 0.0, 0.0, 0.0, 0.0, 0.0, 0.0, 0.0, 1.0, 0.0, 0.0, 0.0, 0.0, 0.0, 0.0], [0.0, 0.0, 0.0, 0.0, 0.0, 0.0, 0.0, 0.0, 0.0, 0.0, 0.0, 0.0, 0.5, 0.0, 0.0, 0.0, 0.0, 0.5, 0.0, 0.0, 0.0], [0.0, 0.0, 0.0, 0.0, 0.0, 0.0, 0.0, 0.0, 0.0, 0.0, 0.0, 0.0, 0.0, 0.0, 0.0, 1.0, 0.0, 0.0, 0.0, 0.0, 0.0], [0.0, 0.0, 0.0, 0.0, 0.0, 0.0, 0.0, 0.0, 0.0, 0.0, 0.0, 1.0, 0.0, 0.0, 0.0, 0.0, 0.0, 0.0, 0.0, 0.0, 0.0], [0.0, 0.0, 0.0, 1.0, 0.0, 0.0, 0.0, 0.0, 0.0, 0.0, 0.0, 0.0, 0.0, 0.0, 0.0, 0.0, 0.0, 0.0, 0.0, 0.0, 0.0], [0.0, 0.0, 0.0, 0.0, 0.0, 0.0, 0.0, 0.0, 0.0, 1.0, 0.0, 0.0, 0.0, 0.0, 0.0, 0.0, 0.0, 0.0, 0.0, 0.0, 0.0], [0.0, 0.0, 0.0, 0.0, 0.0, 0.0, 0.0, 0.0, 0.0, 0.0, 0.0, 1.0, 0.0, 0.0, 0.0, 0.0, 0.0, 0.0, 0.0, 0.0, 0.0], [0.0, 0.0, 0.0, 0.0, 0.0, 0.0, 0.0, 0.0, 0.0, 0.0, 0.0, 0.0, 0.0, 0.0, 0.0, 0.0, 0.0, 0.0, 1.0, 0.0, 0.0], [0.5, 0.0, 0.0, 0.0, 0.0, 0.0, 0.0, 0.0, 0.0, 0.0, 0.0, 0.0, 0.0, 0.0, 0.0, 0.0, 0.25, 0.0, 0.0, 0.0, 0.0], [0.0, 0.0, 0.0, 0.0, 0.0, 0.0, 0.0, 0.0, 0.0, 0.0, 0.0, 0.0, 0.0, 0.0, 0.0, 0.0, 0.0, 0.0, 0.0, 1.0, 0.0], [0.0, 0.0, 0.0, 0.0, 0.6666666666666666, 0.0, 0.0, 0.0, 0.0, 0.0, 0.0, 0.0, 0.0, 0.0, 0.0, 0.0, 0.0, 0.0, 0.0, 0.3333333333333333, 0.0], [0.0, 0.0, 1.0, 0.0, 0.0, 0.0, 0.0, 0.0, 0.0, 0.0, 0.0, 0.0, 0.0, 0.0, 0.0, 0.0, 0.0, 0.0, 0.0, 0.0, 0.0], [0.0, 0.0, 0.0, 0.0, 0.0, 0.0, 1.0, 0.0, 0.0, 0.0, 0.0, 0.0, 0.0, 0.0, 0.0, 0.0, 0.0, 0.0, 0.0, 0.0, 0.0], [0.0, 0.0, 0.0, 0.0, 0.0, 0.0, 0.0, 0.0, 0.0, 0.0, 0.0, 0.0, 0.0, 1.0, 0.0, 0.0, 0.0, 0.0, 0.0, 0.0, 0.0], [0.0, 0.0, 0.0, 0.0, 0.0, 0.0, 0.0, 0.0, 0.0, 0.0, 1.0, 0.0, 0.0, 0.0, 0.0, 0.0, 0.0, 0.0, 0.0, 0.0, 0.0], [0.0, 0.0, 0.0, 0.0, 0.0, 1.0, 0.0, 0.0, 0.0, 0.0, 0.0, 0.0, 0.0, 0.0, 0.0, 0.0, 0.0, 0.0, 0.0, 0.0, 0.0], [0.0, 0.5, 0.0, 0.0, 0.0, 0.0, 0.0, 0.5, 0.0, 0.0, 0.0, 0.0, 0.0, 0.0, 0.0, 0.0, 0.0, 0.0, 0.0, 0.0, 0.0], [0.0, 0.0, 0.0, 0.0, 0.0, 0.0, 0.0, 0.0, 0.0, 0.0, 0.0, 0.0, 0.0, 1.0, 0.0, 0.0, 0.0, 0.0, 0.0, 0.0, 0.0]]\n",
            "              large  game  and  ...  between  teams         a   It\n",
            "         0.0    0.0   0.0  0.0  ...      0.0    0.0  0.000000  1.0\n",
            "large    0.0    0.0   0.0  0.0  ...      0.0    0.0  0.000000  0.0\n",
            "game     0.0    0.0   0.0  0.0  ...      0.0    0.0  0.000000  0.0\n",
            "and      0.0    0.0   0.0  0.0  ...      0.0    0.0  0.000000  0.0\n",
            "played   0.0    0.0   0.0  0.0  ...      0.5    0.0  0.000000  0.0\n",
            "of       0.0    0.0   0.0  0.0  ...      0.0    0.0  0.000000  0.0\n",
            "players  0.0    0.0   0.0  0.0  ...      0.0    0.0  0.000000  0.0\n",
            "bat      0.0    0.0   0.0  1.0  ...      0.0    0.0  0.000000  0.0\n",
            "round    0.0    0.0   0.0  0.0  ...      0.0    0.0  0.000000  0.0\n",
            "field    0.0    0.0   0.0  0.0  ...      0.0    0.0  0.000000  0.0\n",
            "two      0.0    0.0   0.0  0.0  ...      0.0    1.0  0.000000  0.0\n",
            "eos      0.5    0.0   0.0  0.0  ...      0.0    0.0  0.000000  0.0\n",
            "on       0.0    0.0   0.0  0.0  ...      0.0    0.0  1.000000  0.0\n",
            "is       0.0    0.0   0.0  0.0  ...      0.0    0.0  0.333333  0.0\n",
            "ball     0.0    0.0   1.0  0.0  ...      0.0    0.0  0.000000  0.0\n",
            "11       0.0    0.0   0.0  0.0  ...      0.0    0.0  0.000000  0.0\n",
            "Cricket  0.0    0.0   0.0  0.0  ...      0.0    0.0  0.000000  0.0\n",
            "between  0.0    0.0   0.0  0.0  ...      0.0    0.0  0.000000  0.0\n",
            "teams    0.0    0.0   0.0  0.0  ...      0.0    0.0  0.000000  0.0\n",
            "a        0.0    0.5   0.0  0.0  ...      0.0    0.0  0.000000  0.0\n",
            "It       0.0    0.0   0.0  0.0  ...      0.0    0.0  0.000000  0.0\n",
            "\n",
            "[21 rows x 21 columns]\n",
            "['eos', 'I', 'play', 'with', 'football', 'eos']\n",
            "[('eos', 'I'), ('I', 'play'), ('play', 'with'), ('with', 'football'), ('football', 'eos')]\n",
            "probability : 0\n"
          ]
        }
      ],
      "source": [
        "import pandas as pd\n",
        "data = input() \n",
        "x=data.count('.')\n",
        "data1=data.replace('.',' eos ',x-1) \n",
        "data2 = data1.replace('.',\" eos\") \n",
        "data3 = \"eos \" + data2  \n",
        "print(data3)\n",
        "tokens=data3.split(\" \") \n",
        "print(tokens)\n",
        "bigrams=[(tokens[i], tokens[i+1]) for i in range(len(tokens)-1)] \n",
        "print(bigrams)\n",
        "print(len(bigrams)) \n",
        "uni={}\n",
        "for i in tokens: \n",
        "    if i in uni:\n",
        "        uni[i]+=1 \n",
        "    else:\n",
        "        uni[i]=1 \n",
        "print(uni) \n",
        "bi={}\n",
        "for i in bigrams: \n",
        "    if i in bi:\n",
        "        bi[i]+=1 \n",
        "    else:\n",
        "        bi[i]=1 \n",
        "print(bi)  \n",
        "prob={}\n",
        "for i in bigrams:\n",
        "    prob[i]= (bi.get(i))/(uni.get(i[0]))   \n",
        "print(prob)\n",
        "l1=list(set(tokens))\n",
        "print(l1)\n",
        "mat=[[None]*len(l1) for i in range(len(l1))] \n",
        "for i in range(len(l1)):\n",
        "    for j in range(len(l1)):\n",
        "        if bi.get((l1[i],l1[j]))==None:    \n",
        "            mat[i][j]=0.0\n",
        "        else:\n",
        "            mat[i][j]=(bi.get((l1[i],l1[j])))/(uni.get(l1[i])) \n",
        "print(mat)\n",
        "\n",
        "df = pd.DataFrame(mat, columns = l1) \n",
        "df.index = l1\n",
        "print(df)\n",
        "sentence=\"I play with football.\"\n",
        "l1 = sentence.replace('.',' eos') \n",
        "l= \"eos \" + l1\n",
        "l2=l.split(\" \")\n",
        "\n",
        "print(l2)\n",
        "sentbi=[(l2[i],l2[i+1]) for i in range(len(l2)-1)] \n",
        "print(sentbi)\n",
        "mul_prob=1\n",
        "for i in sentbi:\n",
        "  if bi.get(i)==None: \n",
        "    mul_prob*=0\n",
        "  else:\n",
        "    mul_prob*= (bi.get(i))/(uni.get(i[0])) \n",
        "print(\"probability :\",mul_prob)"
      ]
    },
    {
      "cell_type": "code",
      "source": [
        ""
      ],
      "metadata": {
        "id": "P179qOqF-y-T"
      },
      "execution_count": null,
      "outputs": []
    }
  ]
}