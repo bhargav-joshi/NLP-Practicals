{
  "nbformat": 4,
  "nbformat_minor": 0,
  "metadata": {
    "colab": {
      "name": "NLP Exp 9 – PBL-1.ipynb",
      "provenance": [],
      "collapsed_sections": [],
      "authorship_tag": "ABX9TyM4hllJelsTPC96KkLqI8Wp",
      "include_colab_link": true
    },
    "kernelspec": {
      "name": "python3",
      "display_name": "Python 3"
    },
    "language_info": {
      "name": "python"
    }
  },
  "cells": [
    {
      "cell_type": "markdown",
      "metadata": {
        "id": "view-in-github",
        "colab_type": "text"
      },
      "source": [
        "<a href=\"https://colab.research.google.com/github/bhargav-joshi/NLP-Practicals/blob/main/NLP_Exp_9_%E2%80%93_PBL_1.ipynb\" target=\"_parent\"><img src=\"https://colab.research.google.com/assets/colab-badge.svg\" alt=\"Open In Colab\"/></a>"
      ]
    },
    {
      "cell_type": "markdown",
      "source": [
        "# **Science fiction category**"
      ],
      "metadata": {
        "id": "9n5tlDe5C0mq"
      }
    },
    {
      "cell_type": "code",
      "execution_count": 1,
      "metadata": {
        "colab": {
          "base_uri": "https://localhost:8080/"
        },
        "id": "n6h1l_2xCkRB",
        "outputId": "e1023a24-95f5-4a0c-91e6-de9dc0fcc185"
      },
      "outputs": [
        {
          "output_type": "stream",
          "name": "stdout",
          "text": [
            "[nltk_data] Downloading package brown to /root/nltk_data...\n",
            "[nltk_data]   Unzipping corpora/brown.zip.\n",
            "Categories in Brown Corpus:\n",
            "adventure\n",
            "belles_lettres\n",
            "editorial\n",
            "fiction\n",
            "government\n",
            "hobbies\n",
            "humor\n",
            "learned\n",
            "lore\n",
            "mystery\n",
            "news\n",
            "religion\n",
            "reviews\n",
            "romance\n",
            "science_fiction\n",
            "Number of Sentences in Science Fiction Category: 948\n",
            "Number of Words in Science Fiction Category: 14470\n",
            "Number of Words in Science Fiction Category: 14470\n",
            "Number of Words in Science Fiction Category: 14470\n",
            "Number of Words in Science Fiction Category: 14470\n",
            "Number of Words in Science Fiction Category: 14470\n",
            "Number of Words in Science Fiction Category: 14470\n",
            "Number of Words in Science Fiction Category: 14470\n",
            "Number of Words in Science Fiction Category: 14470\n",
            "Number of Words in Science Fiction Category: 14470\n",
            "Number of Words in Science Fiction Category: 14470\n",
            "Number of Words in Science Fiction Category: 14470\n",
            "Number of Words in Science Fiction Category: 14470\n",
            "Number of Words in Science Fiction Category: 14470\n",
            "Number of Words in Science Fiction Category: 14470\n",
            "Number of Words in Science Fiction Category: 14470\n"
          ]
        }
      ],
      "source": [
        "import nltk\n",
        "nltk.download('brown')\n",
        "from nltk.corpus import brown\n",
        "\n",
        "categories = brown.categories()\n",
        "print('Categories in Brown Corpus:')\n",
        "for category in categories:\n",
        "  print(category)\n",
        "  science_fiction = brown.sents(categories = 'science_fiction')\n",
        "print('Number of Sentences in Science Fiction Category:', len(science_fiction))\n",
        "for category in categories:\n",
        "  science_fiction = brown.words(categories = 'science_fiction')\n",
        "  print('Number of Words in Science Fiction Category:', len(science_fiction))"
      ]
    },
    {
      "cell_type": "markdown",
      "source": [
        "# **News category**"
      ],
      "metadata": {
        "id": "FE5QW8cvDBiA"
      }
    },
    {
      "cell_type": "code",
      "source": [
        "import nltk\n",
        "from nltk.corpus import brown\n",
        "categories = brown.categories()\n",
        "print('Categories in Brown Corpus:')\n",
        "for category in categories:\n",
        "  print(category)\n",
        "  news = brown.sents(categories = 'news')\n",
        "print('Number of Sentences in News Category:', len(news))\n",
        "for category in categories:\n",
        "  news = brown.words(categories = 'news')\n",
        "  print('Number of Words in News Category:', len(news))"
      ],
      "metadata": {
        "colab": {
          "base_uri": "https://localhost:8080/"
        },
        "id": "JvB-X18YC_1y",
        "outputId": "dae746dc-3eba-45b7-9844-c9487d9610ea"
      },
      "execution_count": 2,
      "outputs": [
        {
          "output_type": "stream",
          "name": "stdout",
          "text": [
            "Categories in Brown Corpus:\n",
            "adventure\n",
            "belles_lettres\n",
            "editorial\n",
            "fiction\n",
            "government\n",
            "hobbies\n",
            "humor\n",
            "learned\n",
            "lore\n",
            "mystery\n",
            "news\n",
            "religion\n",
            "reviews\n",
            "romance\n",
            "science_fiction\n",
            "Number of Sentences in News Category: 4623\n",
            "Number of Words in News Category: 100554\n",
            "Number of Words in News Category: 100554\n",
            "Number of Words in News Category: 100554\n",
            "Number of Words in News Category: 100554\n",
            "Number of Words in News Category: 100554\n",
            "Number of Words in News Category: 100554\n",
            "Number of Words in News Category: 100554\n",
            "Number of Words in News Category: 100554\n",
            "Number of Words in News Category: 100554\n",
            "Number of Words in News Category: 100554\n",
            "Number of Words in News Category: 100554\n",
            "Number of Words in News Category: 100554\n",
            "Number of Words in News Category: 100554\n",
            "Number of Words in News Category: 100554\n",
            "Number of Words in News Category: 100554\n"
          ]
        }
      ]
    }
  ]
}